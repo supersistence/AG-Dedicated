{
 "cells": [
  {
   "cell_type": "markdown",
   "metadata": {},
   "source": [
    "# Agricultural Dedication Analysis for Hawaii Counties\n",
    "\n",
    "This notebook provides analysis of agricultural property tax dedications across Hawaii counties.\n",
    "\n",
    "## Setup"
   ]
  },
  {
   "cell_type": "code",
   "execution_count": null,
   "metadata": {},
   "outputs": [],
   "source": [
    "# Import required libraries\n",
    "import sys\n",
    "from pathlib import Path\n",
    "\n",
    "import pandas as pd\n",
    "import numpy as np\n",
    "import matplotlib.pyplot as plt\n",
    "import seaborn as sns\n",
    "\n",
    "# Add src to path\n",
    "project_root = Path.cwd().parent\n",
    "sys.path.insert(0, str(project_root / 'src'))\n",
    "\n",
    "from ag_dedicated import config\n",
    "from ag_dedicated.extractors.pdf_extractor import PDFExtractor\n",
    "from ag_dedicated.analysis.statute_comparison import StatuteComparison\n",
    "\n",
    "# Set display options\n",
    "pd.set_option('display.max_columns', None)\n",
    "pd.set_option('display.max_rows', 100)\n",
    "\n",
    "# Set plot style\n",
    "sns.set_style('whitegrid')\n",
    "plt.rcParams['figure.figsize'] = (12, 6)"
   ]
  },
  {
   "cell_type": "markdown",
   "metadata": {},
   "source": [
    "## 1. Load Dedication Data\n",
    "\n",
    "Load the processed dedication data from CSV files."
   ]
  },
  {
   "cell_type": "code",
   "execution_count": null,
   "metadata": {},
   "outputs": [],
   "source": [
    "# Load cleaned dedication data\n",
    "output_dir = config.get_path('paths.output')\n",
    "cleaned_path = output_dir / 'cleaned_output.csv'\n",
    "\n",
    "if cleaned_path.exists():\n",
    "    dedications = pd.read_csv(cleaned_path)\n",
    "    print(f\"Loaded {len(dedications):,} dedication records\")\n",
    "    print(f\"\\nColumns: {list(dedications.columns)}\")\n",
    "    dedications.head()\n",
    "else:\n",
    "    print(f\"Data file not found at {cleaned_path}\")\n",
    "    print(\"Run: ag-dedicated extract\")"
   ]
  },
  {
   "cell_type": "markdown",
   "metadata": {},
   "source": [
    "## 2. Data Overview\n",
    "\n",
    "Examine the structure and quality of the data."
   ]
  },
  {
   "cell_type": "code",
   "execution_count": null,
   "metadata": {},
   "outputs": [],
   "source": [
    "# Basic statistics\n",
    "print(\"Dataset shape:\", dedications.shape)\n",
    "print(\"\\nData types:\")\n",
    "print(dedications.dtypes)\n",
    "print(\"\\nMissing values:\")\n",
    "print(dedications.isnull().sum())\n",
    "print(\"\\nBasic statistics:\")\n",
    "dedications.describe()"
   ]
  },
  {
   "cell_type": "markdown",
   "metadata": {},
   "source": [
    "## 3. Temporal Analysis\n",
    "\n",
    "Analyze trends over time."
   ]
  },
  {
   "cell_type": "code",
   "execution_count": null,
   "metadata": {},
   "outputs": [],
   "source": [
    "# Dedications by year\n",
    "if 'Year' in dedications.columns:\n",
    "    year_counts = dedications['Year'].value_counts().sort_index()\n",
    "    \n",
    "    plt.figure(figsize=(14, 6))\n",
    "    year_counts.plot(kind='bar', color='steelblue')\n",
    "    plt.title('Agricultural Dedications by Year - Honolulu County', fontsize=16, fontweight='bold')\n",
    "    plt.xlabel('Year', fontsize=12)\n",
    "    plt.ylabel('Number of Dedications', fontsize=12)\n",
    "    plt.xticks(rotation=45)\n",
    "    plt.grid(axis='y', alpha=0.3)\n",
    "    plt.tight_layout()\n",
    "    plt.show()\n",
    "    \n",
    "    print(\"\\nDedications by Year:\")\n",
    "    print(year_counts)"
   ]
  },
  {
   "cell_type": "markdown",
   "metadata": {},
   "source": [
    "## 4. County Statute Comparison\n",
    "\n",
    "Compare dedication programs across all Hawaii counties."
   ]
  },
  {
   "cell_type": "code",
   "execution_count": null,
   "metadata": {},
   "outputs": [],
   "source": [
    "# Generate comparison\n",
    "comparison = StatuteComparison(config)\n",
    "\n",
    "# County summaries\n",
    "summary_df = comparison.compare_all_counties()\n",
    "print(\"County Program Summary:\")\n",
    "display(summary_df)\n",
    "\n",
    "# Dedication periods\n",
    "periods_df = comparison.compare_dedication_periods()\n",
    "print(\"\\nDedication Period Options:\")\n",
    "display(periods_df)"
   ]
  },
  {
   "cell_type": "code",
   "execution_count": null,
   "metadata": {},
   "outputs": [],
   "source": [
    "# Full comparison report\n",
    "report = comparison.generate_comparison_report()\n",
    "print(report)"
   ]
  },
  {
   "cell_type": "markdown",
   "metadata": {},
   "source": [
    "## 5. Dedication Period Analysis\n",
    "\n",
    "Analyze the distribution of dedication periods (if data available)."
   ]
  },
  {
   "cell_type": "code",
   "execution_count": null,
   "metadata": {},
   "outputs": [],
   "source": [
    "# Check for end year column\n",
    "end_year_cols = [col for col in dedications.columns if 'end' in col.lower() and 'year' in col.lower()]\n",
    "\n",
    "if end_year_cols:\n",
    "    end_year_col = end_year_cols[0]\n",
    "    print(f\"Analyzing dedication end years from column: {end_year_col}\")\n",
    "    \n",
    "    # Distribution of end years\n",
    "    plt.figure(figsize=(12, 6))\n",
    "    dedications[end_year_col].value_counts().sort_index().plot(kind='bar', color='coral')\n",
    "    plt.title('Distribution of Dedication End Years', fontsize=16, fontweight='bold')\n",
    "    plt.xlabel('End Year', fontsize=12)\n",
    "    plt.ylabel('Count', fontsize=12)\n",
    "    plt.xticks(rotation=45)\n",
    "    plt.tight_layout()\n",
    "    plt.show()\n",
    "else:\n",
    "    print(\"No 'End Year' column found in data\")"
   ]
  },
  {
   "cell_type": "markdown",
   "metadata": {},
   "source": [
    "## 6. Geographic Distribution (TMK Analysis)\n",
    "\n",
    "Analyze the geographic distribution of dedications based on TMK zones."
   ]
  },
  {
   "cell_type": "code",
   "execution_count": null,
   "metadata": {},
   "outputs": [],
   "source": [
    "# Extract zone from TMK if available\n",
    "if 'TMK' in dedications.columns:\n",
    "    # TMK format is typically zone-section-plat-parcel\n",
    "    dedications['TMK_Zone'] = dedications['TMK'].astype(str).str.split('-').str[0]\n",
    "    \n",
    "    zone_counts = dedications['TMK_Zone'].value_counts().head(10)\n",
    "    \n",
    "    plt.figure(figsize=(12, 6))\n",
    "    zone_counts.plot(kind='barh', color='seagreen')\n",
    "    plt.title('Top 10 TMK Zones by Number of Dedications', fontsize=16, fontweight='bold')\n",
    "    plt.xlabel('Number of Dedications', fontsize=12)\n",
    "    plt.ylabel('TMK Zone', fontsize=12)\n",
    "    plt.tight_layout()\n",
    "    plt.show()\n",
    "    \n",
    "    print(\"\\nTop zones:\")\n",
    "    print(zone_counts)"
   ]
  },
  {
   "cell_type": "markdown",
   "metadata": {},
   "source": [
    "## 7. Export Analysis Results\n",
    "\n",
    "Save processed data and analysis results."
   ]
  },
  {
   "cell_type": "code",
   "execution_count": null,
   "metadata": {},
   "outputs": [],
   "source": [
    "# Export year summary\n",
    "if 'Year' in dedications.columns:\n",
    "    year_summary = dedications.groupby('Year').size().reset_index(name='Count')\n",
    "    \n",
    "    output_path = config.data_dir / 'yearly_summary.csv'\n",
    "    year_summary.to_csv(output_path, index=False)\n",
    "    print(f\"Saved yearly summary to {output_path}\")\n",
    "\n",
    "# Export statute comparison\n",
    "comparison_dir = config.data_dir / 'statute_comparison'\n",
    "comparison.export_to_csv(comparison_dir)\n",
    "print(f\"Saved statute comparison to {comparison_dir}\")"
   ]
  },
  {
   "cell_type": "markdown",
   "metadata": {},
   "source": [
    "## Next Steps\n",
    "\n",
    "1. **Scrape parcel data**: Use the CLI to scrape detailed parcel information\n",
    "2. **Tax benefit analysis**: Calculate actual tax savings per dedication\n",
    "3. **Compliance monitoring**: Integrate imagery analysis for land use verification\n",
    "4. **Multi-county expansion**: Process dedications from Hawaii, Maui, and Kauai counties"
   ]
  }
 ],
 "metadata": {
  "kernelspec": {
   "display_name": "Python 3",
   "language": "python",
   "name": "python3"
  },
  "language_info": {
   "codemirror_mode": {
    "name": "ipython",
    "version": 3
   },
   "file_extension": ".py",
   "mimetype": "text/x-python",
   "name": "python",
   "nbconvert_exporter": "python",
   "pygments_lexer": "ipython3",
   "version": "3.9.0"
  }
 },
 "nbformat": 4,
 "nbformat_minor": 4
}
